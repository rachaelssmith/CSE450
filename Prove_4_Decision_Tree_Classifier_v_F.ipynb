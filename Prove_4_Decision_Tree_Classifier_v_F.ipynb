{
  "nbformat": 4,
  "nbformat_minor": 0,
  "metadata": {
    "colab": {
      "name": "Prove 4 Decision Tree Classifier v F",
      "provenance": [],
      "collapsed_sections": [],
      "mount_file_id": "1u-ICcnfvfAfblWqapvJ5PNSLSLzedoOn",
      "authorship_tag": "ABX9TyMejR6pMdjp3awa/QM591Tg",
      "include_colab_link": true
    },
    "kernelspec": {
      "name": "python3",
      "display_name": "Python 3"
    }
  },
  "cells": [
    {
      "cell_type": "markdown",
      "metadata": {
        "id": "view-in-github",
        "colab_type": "text"
      },
      "source": [
        "<a href=\"https://colab.research.google.com/github/rachaelssmith/CSE450/blob/master/Prove_4_Decision_Tree_Classifier_v_F.ipynb\" target=\"_parent\"><img src=\"https://colab.research.google.com/assets/colab-badge.svg\" alt=\"Open In Colab\"/></a>"
      ]
    },
    {
      "cell_type": "code",
      "metadata": {
        "id": "MYKPqAyTQE8c",
        "colab_type": "code",
        "colab": {}
      },
      "source": [
        "# Working with SkLearn Decision Trees\n",
        "\n",
        "# import\n",
        "import os\n",
        "import random\n",
        "import pandas as pd\n",
        "import numpy as np\n",
        "from sklearn.tree import DecisionTreeClassifier\n",
        "from sklearn.model_selection import cross_val_score\n",
        "from sklearn.datasets import load_iris\n",
        "from sklearn.tree import export_text\n",
        "import graphviz\n",
        "from sklearn import tree\n",
        "from sklearn.model_selection import train_test_split\n",
        "from sklearn.metrics import accuracy_score\n",
        "\n",
        "# Set up Iris Data\n",
        "iris_names = ['sepal_length', 'sepal_width', 'petal_length', 'petal_width','species']\n",
        "iris_file = ('https://archive.ics.uci.edu/ml/machine-learning-databases/iris/iris.data')\n",
        "iris = pd.read_csv(iris_file, header = None, names = iris_names)\n",
        "\n"
      ],
      "execution_count": 0,
      "outputs": []
    },
    {
      "cell_type": "code",
      "metadata": {
        "id": "JJOiC5sZsx68",
        "colab_type": "code",
        "outputId": "89d27b95-d705-4b5b-bb67-763414b82aad",
        "colab": {
          "base_uri": "https://localhost:8080/",
          "height": 51
        }
      },
      "source": [
        "#randomize data\n",
        "iris = iris.sample(frac=1)\n",
        "iris\n",
        "\n",
        "# split into features and targets\n",
        "features = iris[['sepal_length', 'sepal_width', 'petal_length', 'petal_width']]\n",
        "targets = iris[['species']]\n",
        "\n",
        "#randomize and split the samples into two groups.\n",
        "#30% of the samples will be used for testing.\n",
        "#the other 70% will be used for training.\n",
        "train_features, test_features, train_targets, test_targets = train_test_split(features, targets, test_size = .30)\n",
        "\n",
        "print (\"train data shape: \"+str(train_features.shape+train_targets.shape))\n",
        "print (\"test data shape: \"+str(test_features.shape+test_targets.shape))\n"
      ],
      "execution_count": 66,
      "outputs": [
        {
          "output_type": "stream",
          "text": [
            "train data shape: (105, 4, 105, 1)\n",
            "test data shape: (45, 4, 45, 1)\n"
          ],
          "name": "stdout"
        }
      ]
    },
    {
      "cell_type": "code",
      "metadata": {
        "id": "cvG6JxSOVZFK",
        "colab_type": "code",
        "outputId": "f4b83c15-64d8-4279-8451-4902f58bb650",
        "colab": {
          "base_uri": "https://localhost:8080/",
          "height": 1000
        }
      },
      "source": [
        "# Build Tree Plot\n",
        "tree_clf = DecisionTreeClassifier(random_state = 0, criterion = 'entropy')\n",
        "tree_clf = tree_clf.fit(train_features, train_targets)\n",
        "tree_pred = tree_clf.predict(test_features)\n",
        "tree.plot_tree(tree_clf)\n",
        "\n",
        "p_dataframe = pd.DataFrame(tree_pred)\n",
        "p_dataframe.rename(index=str, columns={1:'species'})\n",
        "accuracy = accuracy_score(test_targets, tree_pred)\n",
        "new_targets_list = test_targets\n",
        "new_targets_list = new_targets_list.reset_index()\n",
        "final = pd.concat([p_dataframe, new_targets_list], axis=1,join='outer',ignore_index=True)\n",
        "final.columns = ['Predicted Species:', 'Index:', 'Actual Species:']\n",
        "print(final)\n",
        "print(\"\")\n",
        "print(\"Accuracy: \\n\\t\"+format(accuracy,'.2f'))\n"
      ],
      "execution_count": 67,
      "outputs": [
        {
          "output_type": "stream",
          "text": [
            "   Predicted Species:  Index:  Actual Species:\n",
            "0     Iris-versicolor      76  Iris-versicolor\n",
            "1      Iris-virginica     131   Iris-virginica\n",
            "2     Iris-versicolor      55  Iris-versicolor\n",
            "3      Iris-virginica     123   Iris-virginica\n",
            "4         Iris-setosa      47      Iris-setosa\n",
            "5      Iris-virginica     115   Iris-virginica\n",
            "6         Iris-setosa       4      Iris-setosa\n",
            "7      Iris-virginica     116   Iris-virginica\n",
            "8         Iris-setosa       2      Iris-setosa\n",
            "9         Iris-setosa      24      Iris-setosa\n",
            "10    Iris-versicolor      98  Iris-versicolor\n",
            "11     Iris-virginica     137   Iris-virginica\n",
            "12     Iris-virginica     135   Iris-virginica\n",
            "13        Iris-setosa      38      Iris-setosa\n",
            "14    Iris-versicolor      63  Iris-versicolor\n",
            "15     Iris-virginica     141   Iris-virginica\n",
            "16    Iris-versicolor     129   Iris-virginica\n",
            "17        Iris-setosa      11      Iris-setosa\n",
            "18    Iris-versicolor      53  Iris-versicolor\n",
            "19    Iris-versicolor      61  Iris-versicolor\n",
            "20    Iris-versicolor      75  Iris-versicolor\n",
            "21        Iris-setosa      32      Iris-setosa\n",
            "22    Iris-versicolor      58  Iris-versicolor\n",
            "23    Iris-versicolor      96  Iris-versicolor\n",
            "24        Iris-setosa       5      Iris-setosa\n",
            "25    Iris-versicolor      80  Iris-versicolor\n",
            "26        Iris-setosa      45      Iris-setosa\n",
            "27        Iris-setosa      22      Iris-setosa\n",
            "28        Iris-setosa      44      Iris-setosa\n",
            "29    Iris-versicolor      90  Iris-versicolor\n",
            "30        Iris-setosa      13      Iris-setosa\n",
            "31    Iris-versicolor      78  Iris-versicolor\n",
            "32     Iris-virginica     125   Iris-virginica\n",
            "33     Iris-virginica     146   Iris-virginica\n",
            "34     Iris-virginica     143   Iris-virginica\n",
            "35        Iris-setosa       7      Iris-setosa\n",
            "36        Iris-setosa      12      Iris-setosa\n",
            "37        Iris-setosa      25      Iris-setosa\n",
            "38     Iris-virginica     122   Iris-virginica\n",
            "39        Iris-setosa      16      Iris-setosa\n",
            "40     Iris-virginica     136   Iris-virginica\n",
            "41    Iris-versicolor      93  Iris-versicolor\n",
            "42    Iris-versicolor      85  Iris-versicolor\n",
            "43    Iris-versicolor      91  Iris-versicolor\n",
            "44        Iris-setosa      48      Iris-setosa\n",
            "\n",
            "Accuracy: \n",
            "\t0.98\n"
          ],
          "name": "stdout"
        },
        {
          "output_type": "display_data",
          "data": {
            "image/png": "[encoded data removed]",
            "text/plain": [
              "<Figure size 432x288 with 1 Axes>"
            ]
          },
          "metadata": {
            "tags": [],
            "needs_background": "light"
          }
        }
      ]
    },
    {
      "cell_type": "code",
      "metadata": {
        "id": "CV6qK25DYR5J",
        "colab_type": "code",
        "outputId": "9d2b8f38-ef19-4c13-bdae-dca4005a3508",
        "colab": {
          "base_uri": "https://localhost:8080/",
          "height": 493
        }
      },
      "source": [
        "r = export_text(tree_clf, feature_names = ['sepal_length', 'sepal_width', 'petal_length', 'petal_width'])\n",
        "print(\"Export Text: \\n\", r)\n",
        "\n",
        "print(\"Cross Validation Score: \\n\")\n",
        "cross_val_score(tree_clf, features, targets, cv=10)\n",
        "\n",
        "accuracy = accuracy_score(test_targets, tree_pred)\n",
        "print(\"Accuracy: \\n\\t\"+format(accuracy,'.2f'))"
      ],
      "execution_count": 68,
      "outputs": [
        {
          "output_type": "stream",
          "text": [
            "Export Text: \n",
            " |--- petal_width <= 0.80\n",
            "|   |--- class: Iris-setosa\n",
            "|--- petal_width >  0.80\n",
            "|   |--- petal_width <= 1.75\n",
            "|   |   |--- petal_length <= 4.95\n",
            "|   |   |   |--- petal_width <= 1.65\n",
            "|   |   |   |   |--- class: Iris-versicolor\n",
            "|   |   |   |--- petal_width >  1.65\n",
            "|   |   |   |   |--- class: Iris-virginica\n",
            "|   |   |--- petal_length >  4.95\n",
            "|   |   |   |--- petal_width <= 1.55\n",
            "|   |   |   |   |--- class: Iris-virginica\n",
            "|   |   |   |--- petal_width >  1.55\n",
            "|   |   |   |   |--- class: Iris-versicolor\n",
            "|   |--- petal_width >  1.75\n",
            "|   |   |--- petal_length <= 4.85\n",
            "|   |   |   |--- sepal_length <= 5.95\n",
            "|   |   |   |   |--- class: Iris-versicolor\n",
            "|   |   |   |--- sepal_length >  5.95\n",
            "|   |   |   |   |--- class: Iris-virginica\n",
            "|   |   |--- petal_length >  4.85\n",
            "|   |   |   |--- class: Iris-virginica\n",
            "\n",
            "Cross Validation Score: \n",
            "\n",
            "Accuracy: \n",
            "\t0.98\n"
          ],
          "name": "stdout"
        }
      ]
    },
    {
      "cell_type": "code",
      "metadata": {
        "id": "HstXIneiQarL",
        "colab_type": "code",
        "outputId": "59150391-175f-4737-923f-0b2334ef6b79",
        "colab": {
          "base_uri": "https://localhost:8080/",
          "height": 419
        }
      },
      "source": [
        "# Set up Chess Data\n",
        "chess_names = ['wk_file', 'wk_rank', 'wr_file', 'wr_rank','bk_file', 'bk_rank','optimal_depth']\n",
        "chess_file = ('https://archive.ics.uci.edu/ml/machine-learning-databases/chess/king-rook-vs-king/krkopt.data')\n",
        "chess = pd.read_csv(chess_file, header = None, names = chess_names)\n",
        "chess[\"wk_file\"] = chess[\"wk_file\"].astype('category')\n",
        "chess[\"wk_file\"] = chess[\"wk_file\"].cat.codes\n",
        "chess[\"wr_file\"] = chess[\"wr_file\"].astype('category')\n",
        "chess[\"wr_file\"] = chess[\"wr_file\"].cat.codes\n",
        "chess[\"bk_file\"] = chess[\"bk_file\"].astype('category')\n",
        "chess[\"bk_file\"] = chess[\"bk_file\"].cat.codes\n",
        "chess"
      ],
      "execution_count": 69,
      "outputs": [
        {
          "output_type": "execute_result",
          "data": {
            "text/html": [
              "<div>\n",
              "<style scoped>\n",
              "    .dataframe tbody tr th:only-of-type {\n",
              "        vertical-align: middle;\n",
              "    }\n",
              "\n",
              "    .dataframe tbody tr th {\n",
              "        vertical-align: top;\n",
              "    }\n",
              "\n",
              "    .dataframe thead th {\n",
              "        text-align: right;\n",
              "    }\n",
              "</style>\n",
              "<table border=\"1\" class=\"dataframe\">\n",
              "  <thead>\n",
              "    <tr style=\"text-align: right;\">\n",
              "      <th></th>\n",
              "      <th>wk_file</th>\n",
              "      <th>wk_rank</th>\n",
              "      <th>wr_file</th>\n",
              "      <th>wr_rank</th>\n",
              "      <th>bk_file</th>\n",
              "      <th>bk_rank</th>\n",
              "      <th>optimal_depth</th>\n",
              "    </tr>\n",
              "  </thead>\n",
              "  <tbody>\n",
              "    <tr>\n",
              "      <th>0</th>\n",
              "      <td>0</td>\n",
              "      <td>1</td>\n",
              "      <td>1</td>\n",
              "      <td>3</td>\n",
              "      <td>2</td>\n",
              "      <td>2</td>\n",
              "      <td>draw</td>\n",
              "    </tr>\n",
              "    <tr>\n",
              "      <th>1</th>\n",
              "      <td>0</td>\n",
              "      <td>1</td>\n",
              "      <td>2</td>\n",
              "      <td>1</td>\n",
              "      <td>2</td>\n",
              "      <td>2</td>\n",
              "      <td>draw</td>\n",
              "    </tr>\n",
              "    <tr>\n",
              "      <th>2</th>\n",
              "      <td>0</td>\n",
              "      <td>1</td>\n",
              "      <td>2</td>\n",
              "      <td>1</td>\n",
              "      <td>3</td>\n",
              "      <td>1</td>\n",
              "      <td>draw</td>\n",
              "    </tr>\n",
              "    <tr>\n",
              "      <th>3</th>\n",
              "      <td>0</td>\n",
              "      <td>1</td>\n",
              "      <td>2</td>\n",
              "      <td>1</td>\n",
              "      <td>3</td>\n",
              "      <td>2</td>\n",
              "      <td>draw</td>\n",
              "    </tr>\n",
              "    <tr>\n",
              "      <th>4</th>\n",
              "      <td>0</td>\n",
              "      <td>1</td>\n",
              "      <td>2</td>\n",
              "      <td>2</td>\n",
              "      <td>2</td>\n",
              "      <td>1</td>\n",
              "      <td>draw</td>\n",
              "    </tr>\n",
              "    <tr>\n",
              "      <th>...</th>\n",
              "      <td>...</td>\n",
              "      <td>...</td>\n",
              "      <td>...</td>\n",
              "      <td>...</td>\n",
              "      <td>...</td>\n",
              "      <td>...</td>\n",
              "      <td>...</td>\n",
              "    </tr>\n",
              "    <tr>\n",
              "      <th>28051</th>\n",
              "      <td>1</td>\n",
              "      <td>1</td>\n",
              "      <td>6</td>\n",
              "      <td>7</td>\n",
              "      <td>4</td>\n",
              "      <td>5</td>\n",
              "      <td>sixteen</td>\n",
              "    </tr>\n",
              "    <tr>\n",
              "      <th>28052</th>\n",
              "      <td>1</td>\n",
              "      <td>1</td>\n",
              "      <td>6</td>\n",
              "      <td>7</td>\n",
              "      <td>4</td>\n",
              "      <td>6</td>\n",
              "      <td>sixteen</td>\n",
              "    </tr>\n",
              "    <tr>\n",
              "      <th>28053</th>\n",
              "      <td>1</td>\n",
              "      <td>1</td>\n",
              "      <td>6</td>\n",
              "      <td>7</td>\n",
              "      <td>4</td>\n",
              "      <td>7</td>\n",
              "      <td>sixteen</td>\n",
              "    </tr>\n",
              "    <tr>\n",
              "      <th>28054</th>\n",
              "      <td>1</td>\n",
              "      <td>1</td>\n",
              "      <td>6</td>\n",
              "      <td>7</td>\n",
              "      <td>5</td>\n",
              "      <td>5</td>\n",
              "      <td>sixteen</td>\n",
              "    </tr>\n",
              "    <tr>\n",
              "      <th>28055</th>\n",
              "      <td>1</td>\n",
              "      <td>1</td>\n",
              "      <td>6</td>\n",
              "      <td>7</td>\n",
              "      <td>6</td>\n",
              "      <td>5</td>\n",
              "      <td>sixteen</td>\n",
              "    </tr>\n",
              "  </tbody>\n",
              "</table>\n",
              "<p>28056 rows × 7 columns</p>\n",
              "</div>"
            ],
            "text/plain": [
              "       wk_file  wk_rank  wr_file  wr_rank  bk_file  bk_rank optimal_depth\n",
              "0            0        1        1        3        2        2          draw\n",
              "1            0        1        2        1        2        2          draw\n",
              "2            0        1        2        1        3        1          draw\n",
              "3            0        1        2        1        3        2          draw\n",
              "4            0        1        2        2        2        1          draw\n",
              "...        ...      ...      ...      ...      ...      ...           ...\n",
              "28051        1        1        6        7        4        5       sixteen\n",
              "28052        1        1        6        7        4        6       sixteen\n",
              "28053        1        1        6        7        4        7       sixteen\n",
              "28054        1        1        6        7        5        5       sixteen\n",
              "28055        1        1        6        7        6        5       sixteen\n",
              "\n",
              "[28056 rows x 7 columns]"
            ]
          },
          "metadata": {
            "tags": []
          },
          "execution_count": 69
        }
      ]
    },
    {
      "cell_type": "code",
      "metadata": {
        "id": "j__5J6FqRIWu",
        "colab_type": "code",
        "outputId": "746414d9-b52c-4571-9277-948729cbf126",
        "colab": {
          "base_uri": "https://localhost:8080/",
          "height": 51
        }
      },
      "source": [
        "#randomize data\n",
        "chess = chess.sample(frac=1)\n",
        "chess\n",
        "\n",
        "# split into features and targets\n",
        "chess_features = chess[['wk_file', 'wk_rank', 'wr_file', 'wr_rank','bk_file', 'bk_rank']]\n",
        "chess_targets = chess[['optimal_depth']]\n",
        "\n",
        "#randomize and split the samples into two groups.\n",
        "#30% of the samples will be used for testing.\n",
        "#the other 70% will be used for training.\n",
        "ch_train_features, ch_test_features, ch_train_targets, ch_test_targets = train_test_split(chess_features, chess_targets, test_size = .5)\n",
        "\n",
        "print (\"chess train data shape: \"+str(ch_train_features.shape+ch_train_targets.shape))\n",
        "print (\"chess test data shape: \"+str(ch_test_features.shape+ch_test_targets.shape))"
      ],
      "execution_count": 70,
      "outputs": [
        {
          "output_type": "stream",
          "text": [
            "chess train data shape: (14028, 6, 14028, 1)\n",
            "chess test data shape: (14028, 6, 14028, 1)\n"
          ],
          "name": "stdout"
        }
      ]
    },
    {
      "cell_type": "code",
      "metadata": {
        "id": "6D3fqQ8gRwc9",
        "colab_type": "code",
        "outputId": "05fdbe8a-38f1-427e-f1d3-5f7f1814f115",
        "colab": {
          "base_uri": "https://localhost:8080/",
          "height": 1000
        }
      },
      "source": [
        "# Setup the Classifier\n",
        "chess_tree_clf = DecisionTreeClassifier(random_state = 0, max_depth = 5, criterion = 'entropy')\n",
        "chess_tree_clf = chess_tree_clf.fit(chess_features, chess_targets)\n",
        "chess_pred = chess_tree_clf.predict(ch_test_features)\n",
        "\n",
        "# Do Cross Validation on Tree\n",
        "\n",
        "chess_score = cross_val_score(chess_tree_clf, chess_features, chess_targets, cv=10)\n",
        "\n",
        "# Export Text Tree\n",
        "\n",
        "chess_r = export_text(chess_tree_clf, feature_names = ['wk_file', 'wk_rank', 'wr_file', 'wr_rank','bk_file', 'bk_rank'])\n",
        "\n",
        "# Build Tree Plot\n",
        "chess_tree_plot = tree.plot_tree(chess_tree_clf)\n",
        "\n",
        "chess_tree_clf2 = DecisionTreeClassifier(random_state = 0)\n",
        "chess_tree_clf2 = chess_tree_clf2.fit(chess_features, chess_targets)\n",
        "\n",
        "# Check accuracy\n",
        "chess_accuracy = accuracy_score(ch_test_targets, chess_pred)\n",
        "\n",
        "print(\"Chess Cross Validation Score: \\n\", chess_score)\n",
        "print(\"\")\n",
        "print(\"Chess Export Text: \\n\", chess_r)\n",
        "print(\"\")\n",
        "\n",
        "print(\"Accuracy: \\n\\t\"+format(chess_accuracy,'.2f'))"
      ],
      "execution_count": 71,
      "outputs": [
        {
          "output_type": "stream",
          "text": [
            "Chess Cross Validation Score: \n",
            " [0.3442623  0.33820385 0.35032074 0.34461867 0.33749109 0.36493229\n",
            " 0.34509804 0.35044563 0.3486631  0.35080214]\n",
            "\n",
            "Chess Export Text: \n",
            " |--- bk_rank <= 2.50\n",
            "|   |--- wk_file <= 2.50\n",
            "|   |   |--- bk_file <= 2.50\n",
            "|   |   |   |--- wk_file <= 1.00\n",
            "|   |   |   |   |--- wr_rank <= 3.50\n",
            "|   |   |   |   |   |--- class: draw\n",
            "|   |   |   |   |--- wr_rank >  3.50\n",
            "|   |   |   |   |   |--- class: fourteen\n",
            "|   |   |   |--- wk_file >  1.00\n",
            "|   |   |   |   |--- wk_rank <= 1.50\n",
            "|   |   |   |   |   |--- class: two\n",
            "|   |   |   |   |--- wk_rank >  1.50\n",
            "|   |   |   |   |   |--- class: two\n",
            "|   |   |--- bk_file >  2.50\n",
            "|   |   |   |--- wr_rank <= 3.50\n",
            "|   |   |   |   |--- wr_rank <= 2.50\n",
            "|   |   |   |   |   |--- class: draw\n",
            "|   |   |   |   |--- wr_rank >  2.50\n",
            "|   |   |   |   |   |--- class: eight\n",
            "|   |   |   |--- wr_rank >  3.50\n",
            "|   |   |   |   |--- wk_file <= 1.50\n",
            "|   |   |   |   |   |--- class: twelve\n",
            "|   |   |   |   |--- wk_file >  1.50\n",
            "|   |   |   |   |   |--- class: nine\n",
            "|   |--- wk_file >  2.50\n",
            "|   |   |--- wk_rank <= 3.50\n",
            "|   |   |   |--- bk_file <= 3.50\n",
            "|   |   |   |   |--- bk_rank <= 1.50\n",
            "|   |   |   |   |   |--- class: five\n",
            "|   |   |   |   |--- bk_rank >  1.50\n",
            "|   |   |   |   |   |--- class: five\n",
            "|   |   |   |--- bk_file >  3.50\n",
            "|   |   |   |   |--- bk_rank <= 1.50\n",
            "|   |   |   |   |   |--- class: six\n",
            "|   |   |   |   |--- bk_rank >  1.50\n",
            "|   |   |   |   |   |--- class: eight\n",
            "|   |   |--- wk_rank >  3.50\n",
            "|   |   |   |--- wr_rank <= 2.50\n",
            "|   |   |   |   |--- wr_rank <= 1.50\n",
            "|   |   |   |   |   |--- class: draw\n",
            "|   |   |   |   |--- wr_rank >  1.50\n",
            "|   |   |   |   |   |--- class: draw\n",
            "|   |   |   |--- wr_rank >  2.50\n",
            "|   |   |   |   |--- bk_file <= 3.50\n",
            "|   |   |   |   |   |--- class: eight\n",
            "|   |   |   |   |--- bk_file >  3.50\n",
            "|   |   |   |   |   |--- class: nine\n",
            "|--- bk_rank >  2.50\n",
            "|   |--- wk_rank <= 1.50\n",
            "|   |   |--- bk_file <= 0.50\n",
            "|   |   |   |--- wr_file <= 1.50\n",
            "|   |   |   |   |--- wr_file <= 0.50\n",
            "|   |   |   |   |   |--- class: twelve\n",
            "|   |   |   |   |--- wr_file >  0.50\n",
            "|   |   |   |   |   |--- class: eight\n",
            "|   |   |   |--- wr_file >  1.50\n",
            "|   |   |   |   |--- wr_file <= 2.50\n",
            "|   |   |   |   |   |--- class: eleven\n",
            "|   |   |   |   |--- wr_file >  2.50\n",
            "|   |   |   |   |   |--- class: twelve\n",
            "|   |   |--- bk_file >  0.50\n",
            "|   |   |   |--- bk_rank <= 6.50\n",
            "|   |   |   |   |--- wk_file <= 1.50\n",
            "|   |   |   |   |   |--- class: fifteen\n",
            "|   |   |   |   |--- wk_file >  1.50\n",
            "|   |   |   |   |   |--- class: fourteen\n",
            "|   |   |   |--- bk_rank >  6.50\n",
            "|   |   |   |   |--- wr_rank <= 5.50\n",
            "|   |   |   |   |   |--- class: fourteen\n",
            "|   |   |   |   |--- wr_rank >  5.50\n",
            "|   |   |   |   |   |--- class: draw\n",
            "|   |--- wk_rank >  1.50\n",
            "|   |   |--- wk_rank <= 2.50\n",
            "|   |   |   |--- bk_file <= 0.50\n",
            "|   |   |   |   |--- wr_file <= 1.50\n",
            "|   |   |   |   |   |--- class: draw\n",
            "|   |   |   |   |--- wr_file >  1.50\n",
            "|   |   |   |   |   |--- class: eleven\n",
            "|   |   |   |--- bk_file >  0.50\n",
            "|   |   |   |   |--- bk_file <= 6.50\n",
            "|   |   |   |   |   |--- class: thirteen\n",
            "|   |   |   |   |--- bk_file >  6.50\n",
            "|   |   |   |   |   |--- class: twelve\n",
            "|   |   |--- wk_rank >  2.50\n",
            "|   |   |   |--- wk_file <= 2.50\n",
            "|   |   |   |   |--- bk_file <= 5.50\n",
            "|   |   |   |   |   |--- class: thirteen\n",
            "|   |   |   |   |--- bk_file >  5.50\n",
            "|   |   |   |   |   |--- class: twelve\n",
            "|   |   |   |--- wk_file >  2.50\n",
            "|   |   |   |   |--- bk_file <= 6.50\n",
            "|   |   |   |   |   |--- class: twelve\n",
            "|   |   |   |   |--- bk_file >  6.50\n",
            "|   |   |   |   |   |--- class: nine\n",
            "\n",
            "\n",
            "Accuracy: \n",
            "\t0.35\n"
          ],
          "name": "stdout"
        },
        {
          "output_type": "display_data",
          "data": {
            "image/png": "[encoded data removed]",
            "text/plain": [
              "<Figure size 432x288 with 1 Axes>"
            ]
          },
          "metadata": {
            "tags": [],
            "needs_background": "light"
          }
        }
      ]
    },
    {
      "cell_type": "code",
      "metadata": {
        "id": "7svme3ODccaF",
        "colab_type": "code",
        "colab": {}
      },
      "source": [
        "# Set up Voting Data\n",
        "\"\"\"\n",
        "1. Class Name: 2 (democrat, republican) \n",
        "2. handicapped-infants: 2 (y,n) \n",
        "3. water-project-cost-sharing: 2 (y,n) \n",
        "4. adoption-of-the-budget-resolution: 2 (y,n) \n",
        "5. physician-fee-freeze: 2 (y,n) \n",
        "6. el-salvador-aid: 2 (y,n) \n",
        "7. religious-groups-in-schools: 2 (y,n) \n",
        "8. anti-satellite-test-ban: 2 (y,n) \n",
        "9. aid-to-nicaraguan-contras: 2 (y,n) \n",
        "10. mx-missile: 2 (y,n) \n",
        "11. immigration: 2 (y,n) \n",
        "12. synfuels-corporation-cutback: 2 (y,n) \n",
        "13. education-spending: 2 (y,n) \n",
        "14. superfund-right-to-sue: 2 (y,n) \n",
        "15. crime: 2 (y,n) \n",
        "16. duty-free-exports: 2 (y,n) \n",
        "17. export-administration-act-south-africa: 2 (y,n)\n",
        "\"\"\"\n",
        "voting_names = ['class', 'hi', 'wpcs', 'abr', 'pff','esa','rgs','astb','anc','mm','im','scc','es','srs','cm','dfe', 'eaas']\n",
        "voting_file = ('https://archive.ics.uci.edu/ml/machine-learning-databases/voting-records/house-votes-84.data')\n",
        "voting = pd.read_csv(voting_file, header = None, na_values = \"?\", names = voting_names)"
      ],
      "execution_count": 0,
      "outputs": []
    },
    {
      "cell_type": "code",
      "metadata": {
        "id": "IiZZ4f5Mcfof",
        "colab_type": "code",
        "colab": {}
      },
      "source": [
        "voting[\"hi\"] = voting[\"hi\"].astype('category')\n",
        "voting[\"hi\"] = voting[\"hi\"].cat.codes\n",
        "voting[\"wpcs\"] = voting[\"wpcs\"].astype('category')\n",
        "voting[\"wpcs\"] = voting[\"wpcs\"].cat.codes\n",
        "voting[\"abr\"] = voting[\"abr\"].astype('category')\n",
        "voting[\"abr\"] = voting[\"abr\"].cat.codes\n",
        "voting[\"pff\"] = voting[\"pff\"].astype('category')\n",
        "voting[\"pff\"] = voting[\"pff\"].cat.codes\n",
        "voting[\"esa\"] = voting[\"esa\"].astype('category')\n",
        "voting[\"esa\"] = voting[\"esa\"].cat.codes\n",
        "voting[\"rgs\"] = voting[\"rgs\"].astype('category')\n",
        "voting[\"rgs\"] = voting[\"rgs\"].cat.codes\n",
        "voting[\"astb\"] = voting[\"astb\"].astype('category')\n",
        "voting[\"astb\"] = voting[\"astb\"].cat.codes\n",
        "voting[\"anc\"] = voting[\"anc\"].astype('category')\n",
        "voting[\"anc\"] = voting[\"anc\"].cat.codes\n",
        "voting[\"mm\"] = voting[\"mm\"].astype('category')\n",
        "voting[\"mm\"] = voting[\"mm\"].cat.codes\n",
        "voting[\"im\"] = voting[\"im\"].astype('category')\n",
        "voting[\"im\"] = voting[\"im\"].cat.codes\n",
        "voting[\"scc\"] = voting[\"scc\"].astype('category')\n",
        "voting[\"scc\"] = voting[\"scc\"].cat.codes\n",
        "voting[\"es\"] = voting[\"es\"].astype('category')\n",
        "voting[\"es\"] = voting[\"es\"].cat.codes\n",
        "voting[\"srs\"] = voting[\"srs\"].astype('category')\n",
        "voting[\"srs\"] = voting[\"srs\"].cat.codes\n",
        "voting[\"cm\"] = voting[\"cm\"].astype('category')\n",
        "voting[\"cm\"] = voting[\"cm\"].cat.codes\n",
        "voting[\"dfe\"] = voting[\"dfe\"].astype('category')\n",
        "voting[\"dfe\"] = voting[\"dfe\"].cat.codes\n",
        "voting[\"eaas\"] = voting[\"eaas\"].astype('category')\n",
        "voting[\"eaas\"] = voting[\"eaas\"].cat.codes"
      ],
      "execution_count": 0,
      "outputs": []
    },
    {
      "cell_type": "code",
      "metadata": {
        "id": "IRrHbS0XpElZ",
        "colab_type": "code",
        "colab": {
          "base_uri": "https://localhost:8080/",
          "height": 51
        },
        "outputId": "7640aea2-5317-46ec-f8a5-c6f887de4e6b"
      },
      "source": [
        "#randomize data\n",
        "voting = voting.sample(frac=1)\n",
        "voting\n",
        "\n",
        "# split into features and targets\n",
        "voting_features = voting[['hi', 'wpcs', 'abr', 'pff','esa','rgs','astb','anc','mm','im','scc','es','srs','cm','dfe', 'eaas']]\n",
        "voting_targets = voting[['class']]\n",
        "\n",
        "#randomize and split the samples into two groups.\n",
        "#30% of the samples will be used for testing.\n",
        "#the other 70% will be used for training.\n",
        "voting_train_features, voting_test_features, voting_train_targets, voting_test_targets = train_test_split(voting_features, voting_targets, test_size = .50)\n",
        "\n",
        "print (\"chess train data shape: \"+str(voting_train_features.shape+voting_train_targets.shape))\n",
        "print (\"chess test data shape: \"+str(voting_test_features.shape+voting_test_targets.shape))"
      ],
      "execution_count": 89,
      "outputs": [
        {
          "output_type": "stream",
          "text": [
            "chess train data shape: (217, 16, 217, 1)\n",
            "chess test data shape: (218, 16, 218, 1)\n"
          ],
          "name": "stdout"
        }
      ]
    },
    {
      "cell_type": "code",
      "metadata": {
        "id": "ZiE22WoVpjL7",
        "colab_type": "code",
        "colab": {
          "base_uri": "https://localhost:8080/",
          "height": 571
        },
        "outputId": "18a2040d-c1a9-4a3c-854e-dee400f6bc6b"
      },
      "source": [
        "# Setup the Classifier\n",
        "voting_tree_clf = DecisionTreeClassifier(random_state = 0, max_depth = 2, criterion = 'entropy')\n",
        "voting_tree_clf = voting_tree_clf.fit(voting_features, voting_targets)\n",
        "voting_pred = voting_tree_clf.predict(voting_test_features)\n",
        "\n",
        "# Do Cross Validation on Tree\n",
        "\n",
        "voting_score = cross_val_score(voting_tree_clf, voting_features, voting_targets, cv=10)\n",
        "\n",
        "# Export Text Tree\n",
        "\n",
        "voting_r = export_text(voting_tree_clf, feature_names = ['hi', 'wpcs', 'abr', 'pff','esa','rgs','astb','anc','mm','im','scc','es','srs','cm','dfe', 'eaas'])\n",
        "\n",
        "# Build Tree Plot\n",
        "voting_tree_plot = tree.plot_tree(voting_tree_clf)\n",
        "\n",
        "# Check accuracy\n",
        "voting_accuracy = accuracy_score(voting_test_targets, voting_pred)\n",
        "\n",
        "print(\"Chess Cross Validation Score: \\n\", voting_score)\n",
        "print(\"\")\n",
        "print(\"Chess Export Text: \\n\", voting_r)\n",
        "print(\"\")\n",
        "print(\"Accuracy: \\n\\t\"+format(voting_accuracy,'.2f'))"
      ],
      "execution_count": 90,
      "outputs": [
        {
          "output_type": "stream",
          "text": [
            "Chess Cross Validation Score: \n",
            " [0.95454545 0.95454545 0.97727273 0.95454545 0.95454545 0.97674419\n",
            " 0.97674419 0.95348837 0.95348837 0.90697674]\n",
            "\n",
            "Chess Export Text: \n",
            " |--- pff <= 0.50\n",
            "|   |--- abr <= 0.50\n",
            "|   |   |--- class: democrat\n",
            "|   |--- abr >  0.50\n",
            "|   |   |--- class: democrat\n",
            "|--- pff >  0.50\n",
            "|   |--- scc <= 0.50\n",
            "|   |   |--- class: republican\n",
            "|   |--- scc >  0.50\n",
            "|   |   |--- class: republican\n",
            "\n",
            "\n",
            "Accuracy: \n",
            "\t0.95\n"
          ],
          "name": "stdout"
        },
        {
          "output_type": "display_data",
          "data": {
            "image/png": "[encoded data removed]",
            "text/plain": [
              "<Figure size 432x288 with 1 Axes>"
            ]
          },
          "metadata": {
            "tags": [],
            "needs_background": "light"
          }
        }
      ]
    }
  ]
}