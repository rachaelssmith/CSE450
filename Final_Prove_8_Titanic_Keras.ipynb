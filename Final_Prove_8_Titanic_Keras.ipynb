{
  "nbformat": 4,
  "nbformat_minor": 0,
  "metadata": {
    "colab": {
      "name": "Final Prove 6 Titanic-Keras",
      "provenance": [],
      "collapsed_sections": [],
      "authorship_tag": "ABX9TyNGshG3cYv7pGPx64GaSAW/",
      "include_colab_link": true
    },
    "kernelspec": {
      "name": "python3",
      "display_name": "Python 3"
    }
  },
  "cells": [
    {
      "cell_type": "markdown",
      "metadata": {
        "id": "view-in-github",
        "colab_type": "text"
      },
      "source": [
        "<a href=\"https://colab.research.google.com/github/rachaelssmith/CSE450/blob/master/Final_Prove_8_Titanic_Keras.ipynb\" target=\"_parent\"><img src=\"https://colab.research.google.com/assets/colab-badge.svg\" alt=\"Open In Colab\"/></a>"
      ]
    },
    {
      "cell_type": "code",
      "metadata": {
        "id": "zBXOmouf70gM",
        "colab_type": "code",
        "colab": {}
      },
      "source": [
        "# tip on using google  colab \n",
        "# http://www.icyousee.org/titanic.html\n",
        "import pandas as pd\n",
        "import numpy as np"
      ],
      "execution_count": 0,
      "outputs": []
    },
    {
      "cell_type": "code",
      "metadata": {
        "id": "WfSBPfPo7wYZ",
        "colab_type": "code",
        "colab": {}
      },
      "source": [
        "# importing tensorflow and keras\n",
        "from sklearn.model_selection import train_test_split\n",
        "from sklearn.model_selection import cross_val_score\n",
        "from sklearn.metrics import accuracy_score\n",
        "\n",
        "import keras\n",
        "from keras.models import Sequential\n",
        "from keras.layers import Dense\n",
        "\n",
        "from sklearn.metrics import accuracy_score\n",
        "from sklearn.metrics import r2_score\n",
        "\n",
        "from sklearn.neighbors import KNeighborsClassifier\n",
        "from sklearn.neighbors import KNeighborsRegressor\n",
        "\n",
        "from sklearn.tree import DecisionTreeClassifier\n"
      ],
      "execution_count": 0,
      "outputs": []
    },
    {
      "cell_type": "code",
      "metadata": {
        "id": "pOuyQQ1-9uQz",
        "colab_type": "code",
        "outputId": "4faecb51-6cc9-4327-d954-23928c4075b6",
        "colab": {
          "base_uri": "https://localhost:8080/",
          "height": 419
        }
      },
      "source": [
        "\n",
        "titanic_names = ['Survived','Pclass','Name','Sex','Age','SibSp','Parch','Ticket','Fare','Cabin','Embarked']\n",
        "titanic_file = \"https://docs.google.com/spreadsheets/d/e/2PACX-1vTgy1GYq5gZLxaOQ1jF9uzcUPdDryq8oKzOOtAvwVPBQemDw3X0pzp0VLE5ER3g7qNAo669g75CkNMe/pub?output=csv\"\n",
        "titanic = pd.read_csv(titanic_file, header = 0, na_values = \"NaN\", index_col = 0, names = titanic_names)\n",
        "\n",
        "titanic\n"
      ],
      "execution_count": 0,
      "outputs": [
        {
          "output_type": "execute_result",
          "data": {
            "text/html": [
              "<div>\n",
              "<style scoped>\n",
              "    .dataframe tbody tr th:only-of-type {\n",
              "        vertical-align: middle;\n",
              "    }\n",
              "\n",
              "    .dataframe tbody tr th {\n",
              "        vertical-align: top;\n",
              "    }\n",
              "\n",
              "    .dataframe thead th {\n",
              "        text-align: right;\n",
              "    }\n",
              "</style>\n",
              "<table border=\"1\" class=\"dataframe\">\n",
              "  <thead>\n",
              "    <tr style=\"text-align: right;\">\n",
              "      <th></th>\n",
              "      <th>Survived</th>\n",
              "      <th>Pclass</th>\n",
              "      <th>Name</th>\n",
              "      <th>Sex</th>\n",
              "      <th>Age</th>\n",
              "      <th>SibSp</th>\n",
              "      <th>Parch</th>\n",
              "      <th>Ticket</th>\n",
              "      <th>Fare</th>\n",
              "      <th>Cabin</th>\n",
              "      <th>Embarked</th>\n",
              "    </tr>\n",
              "  </thead>\n",
              "  <tbody>\n",
              "    <tr>\n",
              "      <th>1</th>\n",
              "      <td>0</td>\n",
              "      <td>3</td>\n",
              "      <td>Braund, Mr. Owen Harris</td>\n",
              "      <td>male</td>\n",
              "      <td>22.0</td>\n",
              "      <td>1</td>\n",
              "      <td>0</td>\n",
              "      <td>A/5 21171</td>\n",
              "      <td>7.2500</td>\n",
              "      <td>NaN</td>\n",
              "      <td>S</td>\n",
              "    </tr>\n",
              "    <tr>\n",
              "      <th>2</th>\n",
              "      <td>1</td>\n",
              "      <td>1</td>\n",
              "      <td>Cumings, Mrs. John Bradley (Florence Briggs Th...</td>\n",
              "      <td>female</td>\n",
              "      <td>38.0</td>\n",
              "      <td>1</td>\n",
              "      <td>0</td>\n",
              "      <td>PC 17599</td>\n",
              "      <td>71.2833</td>\n",
              "      <td>C85</td>\n",
              "      <td>C</td>\n",
              "    </tr>\n",
              "    <tr>\n",
              "      <th>3</th>\n",
              "      <td>1</td>\n",
              "      <td>3</td>\n",
              "      <td>Heikkinen, Miss. Laina</td>\n",
              "      <td>female</td>\n",
              "      <td>26.0</td>\n",
              "      <td>0</td>\n",
              "      <td>0</td>\n",
              "      <td>STON/O2. 3101282</td>\n",
              "      <td>7.9250</td>\n",
              "      <td>NaN</td>\n",
              "      <td>S</td>\n",
              "    </tr>\n",
              "    <tr>\n",
              "      <th>4</th>\n",
              "      <td>1</td>\n",
              "      <td>1</td>\n",
              "      <td>Futrelle, Mrs. Jacques Heath (Lily May Peel)</td>\n",
              "      <td>female</td>\n",
              "      <td>35.0</td>\n",
              "      <td>1</td>\n",
              "      <td>0</td>\n",
              "      <td>113803</td>\n",
              "      <td>53.1000</td>\n",
              "      <td>C123</td>\n",
              "      <td>S</td>\n",
              "    </tr>\n",
              "    <tr>\n",
              "      <th>5</th>\n",
              "      <td>0</td>\n",
              "      <td>3</td>\n",
              "      <td>Allen, Mr. William Henry</td>\n",
              "      <td>male</td>\n",
              "      <td>35.0</td>\n",
              "      <td>0</td>\n",
              "      <td>0</td>\n",
              "      <td>373450</td>\n",
              "      <td>8.0500</td>\n",
              "      <td>NaN</td>\n",
              "      <td>S</td>\n",
              "    </tr>\n",
              "    <tr>\n",
              "      <th>...</th>\n",
              "      <td>...</td>\n",
              "      <td>...</td>\n",
              "      <td>...</td>\n",
              "      <td>...</td>\n",
              "      <td>...</td>\n",
              "      <td>...</td>\n",
              "      <td>...</td>\n",
              "      <td>...</td>\n",
              "      <td>...</td>\n",
              "      <td>...</td>\n",
              "      <td>...</td>\n",
              "    </tr>\n",
              "    <tr>\n",
              "      <th>887</th>\n",
              "      <td>0</td>\n",
              "      <td>2</td>\n",
              "      <td>Montvila, Rev. Juozas</td>\n",
              "      <td>male</td>\n",
              "      <td>27.0</td>\n",
              "      <td>0</td>\n",
              "      <td>0</td>\n",
              "      <td>211536</td>\n",
              "      <td>13.0000</td>\n",
              "      <td>NaN</td>\n",
              "      <td>S</td>\n",
              "    </tr>\n",
              "    <tr>\n",
              "      <th>888</th>\n",
              "      <td>1</td>\n",
              "      <td>1</td>\n",
              "      <td>Graham, Miss. Margaret Edith</td>\n",
              "      <td>female</td>\n",
              "      <td>19.0</td>\n",
              "      <td>0</td>\n",
              "      <td>0</td>\n",
              "      <td>112053</td>\n",
              "      <td>30.0000</td>\n",
              "      <td>B42</td>\n",
              "      <td>S</td>\n",
              "    </tr>\n",
              "    <tr>\n",
              "      <th>889</th>\n",
              "      <td>0</td>\n",
              "      <td>3</td>\n",
              "      <td>Johnston, Miss. Catherine Helen \"Carrie\"</td>\n",
              "      <td>female</td>\n",
              "      <td>NaN</td>\n",
              "      <td>1</td>\n",
              "      <td>2</td>\n",
              "      <td>W./C. 6607</td>\n",
              "      <td>23.4500</td>\n",
              "      <td>NaN</td>\n",
              "      <td>S</td>\n",
              "    </tr>\n",
              "    <tr>\n",
              "      <th>890</th>\n",
              "      <td>1</td>\n",
              "      <td>1</td>\n",
              "      <td>Behr, Mr. Karl Howell</td>\n",
              "      <td>male</td>\n",
              "      <td>26.0</td>\n",
              "      <td>0</td>\n",
              "      <td>0</td>\n",
              "      <td>111369</td>\n",
              "      <td>30.0000</td>\n",
              "      <td>C148</td>\n",
              "      <td>C</td>\n",
              "    </tr>\n",
              "    <tr>\n",
              "      <th>891</th>\n",
              "      <td>0</td>\n",
              "      <td>3</td>\n",
              "      <td>Dooley, Mr. Patrick</td>\n",
              "      <td>male</td>\n",
              "      <td>32.0</td>\n",
              "      <td>0</td>\n",
              "      <td>0</td>\n",
              "      <td>370376</td>\n",
              "      <td>7.7500</td>\n",
              "      <td>NaN</td>\n",
              "      <td>Q</td>\n",
              "    </tr>\n",
              "  </tbody>\n",
              "</table>\n",
              "<p>891 rows × 11 columns</p>\n",
              "</div>"
            ],
            "text/plain": [
              "     Survived  Pclass  ... Cabin Embarked\n",
              "1           0       3  ...   NaN        S\n",
              "2           1       1  ...   C85        C\n",
              "3           1       3  ...   NaN        S\n",
              "4           1       1  ...  C123        S\n",
              "5           0       3  ...   NaN        S\n",
              "..        ...     ...  ...   ...      ...\n",
              "887         0       2  ...   NaN        S\n",
              "888         1       1  ...   B42        S\n",
              "889         0       3  ...   NaN        S\n",
              "890         1       1  ...  C148        C\n",
              "891         0       3  ...   NaN        Q\n",
              "\n",
              "[891 rows x 11 columns]"
            ]
          },
          "metadata": {
            "tags": []
          },
          "execution_count": 150
        }
      ]
    },
    {
      "cell_type": "code",
      "metadata": {
        "id": "Qzm9h9_zIxWy",
        "colab_type": "code",
        "colab": {}
      },
      "source": [
        "titanic[\"Cabin\"] = titanic[\"Cabin\"].str[:1]\n",
        "\n",
        "cleanup_titanic1 = {\"Cabin\": {\"A\": 8, \"B\":7, \"C\":6, \"D\":5, \"E\":4, \"F\":3,\"G\":2, \"T\":1}\n",
        "                  }\n",
        "titanic.replace(cleanup_titanic1, inplace = True)\n",
        "\n",
        "cleanup_titanic2 = {\"Embarked\": {\"S\":0.24,\"C\": .33, \"Q\":0.38}\n",
        "                    }\n",
        "titanic.replace(cleanup_titanic2, inplace = True)              \n",
        "\n",
        "cleanup_titanic4 = {\"Sex\": {\"male\":.21,\"female\":.79}\n",
        "                    }\n",
        "titanic.replace(cleanup_titanic4, inplace = True) \n",
        "                  \n",
        "titanic[\"Sex\"] = titanic[\"Sex\"].astype('int64')"
      ],
      "execution_count": 0,
      "outputs": []
    },
    {
      "cell_type": "code",
      "metadata": {
        "id": "FxnpaFEbSbPN",
        "colab_type": "code",
        "outputId": "2dd94f6b-018d-4fcf-f641-2c773d03458c",
        "colab": {
          "base_uri": "https://localhost:8080/",
          "height": 419
        }
      },
      "source": [
        "titanic"
      ],
      "execution_count": 0,
      "outputs": [
        {
          "output_type": "execute_result",
          "data": {
            "text/html": [
              "<div>\n",
              "<style scoped>\n",
              "    .dataframe tbody tr th:only-of-type {\n",
              "        vertical-align: middle;\n",
              "    }\n",
              "\n",
              "    .dataframe tbody tr th {\n",
              "        vertical-align: top;\n",
              "    }\n",
              "\n",
              "    .dataframe thead th {\n",
              "        text-align: right;\n",
              "    }\n",
              "</style>\n",
              "<table border=\"1\" class=\"dataframe\">\n",
              "  <thead>\n",
              "    <tr style=\"text-align: right;\">\n",
              "      <th></th>\n",
              "      <th>Survived</th>\n",
              "      <th>Pclass</th>\n",
              "      <th>Name</th>\n",
              "      <th>Sex</th>\n",
              "      <th>Age</th>\n",
              "      <th>SibSp</th>\n",
              "      <th>Parch</th>\n",
              "      <th>Ticket</th>\n",
              "      <th>Fare</th>\n",
              "      <th>Cabin</th>\n",
              "      <th>Embarked</th>\n",
              "    </tr>\n",
              "  </thead>\n",
              "  <tbody>\n",
              "    <tr>\n",
              "      <th>1</th>\n",
              "      <td>0</td>\n",
              "      <td>3</td>\n",
              "      <td>Braund, Mr. Owen Harris</td>\n",
              "      <td>0</td>\n",
              "      <td>22.0</td>\n",
              "      <td>1</td>\n",
              "      <td>0</td>\n",
              "      <td>A/5 21171</td>\n",
              "      <td>7.2500</td>\n",
              "      <td>NaN</td>\n",
              "      <td>0.24</td>\n",
              "    </tr>\n",
              "    <tr>\n",
              "      <th>2</th>\n",
              "      <td>1</td>\n",
              "      <td>1</td>\n",
              "      <td>Cumings, Mrs. John Bradley (Florence Briggs Th...</td>\n",
              "      <td>0</td>\n",
              "      <td>38.0</td>\n",
              "      <td>1</td>\n",
              "      <td>0</td>\n",
              "      <td>PC 17599</td>\n",
              "      <td>71.2833</td>\n",
              "      <td>6.0</td>\n",
              "      <td>0.33</td>\n",
              "    </tr>\n",
              "    <tr>\n",
              "      <th>3</th>\n",
              "      <td>1</td>\n",
              "      <td>3</td>\n",
              "      <td>Heikkinen, Miss. Laina</td>\n",
              "      <td>0</td>\n",
              "      <td>26.0</td>\n",
              "      <td>0</td>\n",
              "      <td>0</td>\n",
              "      <td>STON/O2. 3101282</td>\n",
              "      <td>7.9250</td>\n",
              "      <td>NaN</td>\n",
              "      <td>0.24</td>\n",
              "    </tr>\n",
              "    <tr>\n",
              "      <th>4</th>\n",
              "      <td>1</td>\n",
              "      <td>1</td>\n",
              "      <td>Futrelle, Mrs. Jacques Heath (Lily May Peel)</td>\n",
              "      <td>0</td>\n",
              "      <td>35.0</td>\n",
              "      <td>1</td>\n",
              "      <td>0</td>\n",
              "      <td>113803</td>\n",
              "      <td>53.1000</td>\n",
              "      <td>6.0</td>\n",
              "      <td>0.24</td>\n",
              "    </tr>\n",
              "    <tr>\n",
              "      <th>5</th>\n",
              "      <td>0</td>\n",
              "      <td>3</td>\n",
              "      <td>Allen, Mr. William Henry</td>\n",
              "      <td>0</td>\n",
              "      <td>35.0</td>\n",
              "      <td>0</td>\n",
              "      <td>0</td>\n",
              "      <td>373450</td>\n",
              "      <td>8.0500</td>\n",
              "      <td>NaN</td>\n",
              "      <td>0.24</td>\n",
              "    </tr>\n",
              "    <tr>\n",
              "      <th>...</th>\n",
              "      <td>...</td>\n",
              "      <td>...</td>\n",
              "      <td>...</td>\n",
              "      <td>...</td>\n",
              "      <td>...</td>\n",
              "      <td>...</td>\n",
              "      <td>...</td>\n",
              "      <td>...</td>\n",
              "      <td>...</td>\n",
              "      <td>...</td>\n",
              "      <td>...</td>\n",
              "    </tr>\n",
              "    <tr>\n",
              "      <th>887</th>\n",
              "      <td>0</td>\n",
              "      <td>2</td>\n",
              "      <td>Montvila, Rev. Juozas</td>\n",
              "      <td>0</td>\n",
              "      <td>27.0</td>\n",
              "      <td>0</td>\n",
              "      <td>0</td>\n",
              "      <td>211536</td>\n",
              "      <td>13.0000</td>\n",
              "      <td>NaN</td>\n",
              "      <td>0.24</td>\n",
              "    </tr>\n",
              "    <tr>\n",
              "      <th>888</th>\n",
              "      <td>1</td>\n",
              "      <td>1</td>\n",
              "      <td>Graham, Miss. Margaret Edith</td>\n",
              "      <td>0</td>\n",
              "      <td>19.0</td>\n",
              "      <td>0</td>\n",
              "      <td>0</td>\n",
              "      <td>112053</td>\n",
              "      <td>30.0000</td>\n",
              "      <td>7.0</td>\n",
              "      <td>0.24</td>\n",
              "    </tr>\n",
              "    <tr>\n",
              "      <th>889</th>\n",
              "      <td>0</td>\n",
              "      <td>3</td>\n",
              "      <td>Johnston, Miss. Catherine Helen \"Carrie\"</td>\n",
              "      <td>0</td>\n",
              "      <td>NaN</td>\n",
              "      <td>1</td>\n",
              "      <td>2</td>\n",
              "      <td>W./C. 6607</td>\n",
              "      <td>23.4500</td>\n",
              "      <td>NaN</td>\n",
              "      <td>0.24</td>\n",
              "    </tr>\n",
              "    <tr>\n",
              "      <th>890</th>\n",
              "      <td>1</td>\n",
              "      <td>1</td>\n",
              "      <td>Behr, Mr. Karl Howell</td>\n",
              "      <td>0</td>\n",
              "      <td>26.0</td>\n",
              "      <td>0</td>\n",
              "      <td>0</td>\n",
              "      <td>111369</td>\n",
              "      <td>30.0000</td>\n",
              "      <td>6.0</td>\n",
              "      <td>0.33</td>\n",
              "    </tr>\n",
              "    <tr>\n",
              "      <th>891</th>\n",
              "      <td>0</td>\n",
              "      <td>3</td>\n",
              "      <td>Dooley, Mr. Patrick</td>\n",
              "      <td>0</td>\n",
              "      <td>32.0</td>\n",
              "      <td>0</td>\n",
              "      <td>0</td>\n",
              "      <td>370376</td>\n",
              "      <td>7.7500</td>\n",
              "      <td>NaN</td>\n",
              "      <td>0.38</td>\n",
              "    </tr>\n",
              "  </tbody>\n",
              "</table>\n",
              "<p>891 rows × 11 columns</p>\n",
              "</div>"
            ],
            "text/plain": [
              "     Survived  Pclass  ... Cabin  Embarked\n",
              "1           0       3  ...   NaN      0.24\n",
              "2           1       1  ...   6.0      0.33\n",
              "3           1       3  ...   NaN      0.24\n",
              "4           1       1  ...   6.0      0.24\n",
              "5           0       3  ...   NaN      0.24\n",
              "..        ...     ...  ...   ...       ...\n",
              "887         0       2  ...   NaN      0.24\n",
              "888         1       1  ...   7.0      0.24\n",
              "889         0       3  ...   NaN      0.24\n",
              "890         1       1  ...   6.0      0.33\n",
              "891         0       3  ...   NaN      0.38\n",
              "\n",
              "[891 rows x 11 columns]"
            ]
          },
          "metadata": {
            "tags": []
          },
          "execution_count": 152
        }
      ]
    },
    {
      "cell_type": "code",
      "metadata": {
        "id": "6LfjPBLQgnhU",
        "colab_type": "code",
        "colab": {}
      },
      "source": [
        "titanic[\"Ticket\"] = titanic[\"Ticket\"].str[-3:]\n",
        "\n",
        "titanic[\"Ticket\"] = titanic.groupby([\"Ticket\"])[\"Sex\"].transform('count')\n",
        "\n",
        "titanic[\"Cabin\"] = titanic[\"Cabin\"].fillna(-1)\n",
        "titanic[\"Embarked\"] = titanic[\"Embarked\"].fillna(0)\n",
        "\n",
        "titanic[\"Age\"] = titanic[\"Age\"].fillna(method = 'ffill')\n",
        "\n",
        "titanic[\"Name\"] = titanic[\"Name\"].str[:4]\n",
        "titanic[\"Name\"] = titanic.groupby([\"Name\"])[\"Sex\"].transform('count')\n",
        "\n"
      ],
      "execution_count": 0,
      "outputs": []
    },
    {
      "cell_type": "code",
      "metadata": {
        "id": "2h4ZuwBdIRhF",
        "colab_type": "code",
        "outputId": "835b75e3-b700-4ee0-ef6a-798b5125b7ea",
        "colab": {
          "base_uri": "https://localhost:8080/",
          "height": 221
        }
      },
      "source": [
        "titanic[titanic.isna().any(axis=1)]\n",
        "titanic.isna().any()"
      ],
      "execution_count": 0,
      "outputs": [
        {
          "output_type": "execute_result",
          "data": {
            "text/plain": [
              "Survived    False\n",
              "Pclass      False\n",
              "Name        False\n",
              "Sex         False\n",
              "Age         False\n",
              "SibSp       False\n",
              "Parch       False\n",
              "Ticket      False\n",
              "Fare        False\n",
              "Cabin       False\n",
              "Embarked    False\n",
              "dtype: bool"
            ]
          },
          "metadata": {
            "tags": []
          },
          "execution_count": 154
        }
      ]
    },
    {
      "cell_type": "code",
      "metadata": {
        "id": "dm5HLH1BucCk",
        "colab_type": "code",
        "colab": {}
      },
      "source": [
        "titanic = titanic.sample(frac=1)"
      ],
      "execution_count": 0,
      "outputs": []
    },
    {
      "cell_type": "code",
      "metadata": {
        "id": "aHYFPtJw8RoL",
        "colab_type": "code",
        "colab": {}
      },
      "source": [
        "#split the data into features and targets\n",
        "targets = titanic['Survived']\n",
        "targets = np.array(targets)"
      ],
      "execution_count": 0,
      "outputs": []
    },
    {
      "cell_type": "code",
      "metadata": {
        "id": "yze_SrNJup7e",
        "colab_type": "code",
        "colab": {}
      },
      "source": [
        "features = titanic[['Pclass','Name','Sex','Age','SibSp','Parch','Ticket','Fare','Cabin','Embarked']]\n",
        "features = np.array(features)"
      ],
      "execution_count": 0,
      "outputs": []
    },
    {
      "cell_type": "code",
      "metadata": {
        "id": "8znEnDhqs18a",
        "colab_type": "code",
        "outputId": "b96a477e-8249-42d2-bde3-dcf48074ec82",
        "colab": {
          "base_uri": "https://localhost:8080/",
          "height": 51
        }
      },
      "source": [
        "#30% of the samples will be used for testing.\n",
        "#the other 70% will be used for training.\n",
        "train_features, test_features, train_targets, test_targets = train_test_split(features, targets, test_size =.1)\n",
        "print (\"train data shape: \"+str(train_features.shape+train_targets.shape))\n",
        "print (\"test data shape: \"+str(test_features.shape+test_targets.shape))"
      ],
      "execution_count": 0,
      "outputs": [
        {
          "output_type": "stream",
          "text": [
            "train data shape: (801, 10, 801)\n",
            "test data shape: (90, 10, 90)\n"
          ],
          "name": "stdout"
        }
      ]
    },
    {
      "cell_type": "code",
      "metadata": {
        "id": "tpsb2Z8J5J5g",
        "colab_type": "code",
        "colab": {}
      },
      "source": [
        "from sklearn.preprocessing import StandardScaler\n",
        "sc = StandardScaler()\n",
        "sc.fit(train_features)\n",
        "\n",
        "train_data = sc.transform(train_features)\n",
        "test_data = sc.transform(test_features)"
      ],
      "execution_count": 0,
      "outputs": []
    },
    {
      "cell_type": "code",
      "metadata": {
        "id": "RgiiKu625alF",
        "colab_type": "code",
        "colab": {}
      },
      "source": [
        "\n",
        "classifier = Sequential()\n",
        "\n",
        "classifier.add(Dense(500, activation = \"relu\"))\n",
        "classifier.add(Dense(250, activation = \"relu\"))\n",
        "classifier.add(Dense(1, activation = \"sigmoid\"))\n",
        "classifier.compile(optimizer = \"adam\", loss=\"binary_crossentropy\", metrics = [\"accuracy\"])\n"
      ],
      "execution_count": 0,
      "outputs": []
    },
    {
      "cell_type": "code",
      "metadata": {
        "id": "qEmJsgBA5k37",
        "colab_type": "code",
        "outputId": "119ad072-0ab5-4520-ddf0-86a30f4b9580",
        "colab": {
          "base_uri": "https://localhost:8080/",
          "height": 952
        }
      },
      "source": [
        "history = classifier.fit(train_features, train_targets, validation_split = 0.1, epochs = 27)"
      ],
      "execution_count": 0,
      "outputs": [
        {
          "output_type": "stream",
          "text": [
            "Train on 720 samples, validate on 81 samples\n",
            "Epoch 1/27\n",
            "720/720 [==============================] - 0s 272us/step - loss: 0.8010 - accuracy: 0.6375 - val_loss: 0.7366 - val_accuracy: 0.4815\n",
            "Epoch 2/27\n",
            "720/720 [==============================] - 0s 121us/step - loss: 0.7130 - accuracy: 0.6694 - val_loss: 0.7715 - val_accuracy: 0.6914\n",
            "Epoch 3/27\n",
            "720/720 [==============================] - 0s 118us/step - loss: 0.6629 - accuracy: 0.6861 - val_loss: 1.0236 - val_accuracy: 0.5556\n",
            "Epoch 4/27\n",
            "720/720 [==============================] - 0s 118us/step - loss: 0.7592 - accuracy: 0.6806 - val_loss: 0.6261 - val_accuracy: 0.7160\n",
            "Epoch 5/27\n",
            "720/720 [==============================] - 0s 120us/step - loss: 0.6231 - accuracy: 0.7111 - val_loss: 0.6245 - val_accuracy: 0.6667\n",
            "Epoch 6/27\n",
            "720/720 [==============================] - 0s 126us/step - loss: 0.5724 - accuracy: 0.7222 - val_loss: 0.6941 - val_accuracy: 0.6667\n",
            "Epoch 7/27\n",
            "720/720 [==============================] - 0s 120us/step - loss: 0.7002 - accuracy: 0.6750 - val_loss: 0.8383 - val_accuracy: 0.5926\n",
            "Epoch 8/27\n",
            "720/720 [==============================] - 0s 118us/step - loss: 0.6180 - accuracy: 0.6917 - val_loss: 0.7138 - val_accuracy: 0.6420\n",
            "Epoch 9/27\n",
            "720/720 [==============================] - 0s 125us/step - loss: 0.6013 - accuracy: 0.7153 - val_loss: 0.7863 - val_accuracy: 0.6049\n",
            "Epoch 10/27\n",
            "720/720 [==============================] - 0s 129us/step - loss: 0.5902 - accuracy: 0.7306 - val_loss: 0.7824 - val_accuracy: 0.6420\n",
            "Epoch 11/27\n",
            "720/720 [==============================] - 0s 120us/step - loss: 0.6062 - accuracy: 0.7250 - val_loss: 0.7226 - val_accuracy: 0.6173\n",
            "Epoch 12/27\n",
            "720/720 [==============================] - 0s 132us/step - loss: 0.6777 - accuracy: 0.6972 - val_loss: 0.9769 - val_accuracy: 0.5185\n",
            "Epoch 13/27\n",
            "720/720 [==============================] - 0s 121us/step - loss: 0.7429 - accuracy: 0.6750 - val_loss: 0.8896 - val_accuracy: 0.5679\n",
            "Epoch 14/27\n",
            "720/720 [==============================] - 0s 123us/step - loss: 0.5620 - accuracy: 0.7278 - val_loss: 0.6745 - val_accuracy: 0.7160\n",
            "Epoch 15/27\n",
            "720/720 [==============================] - 0s 115us/step - loss: 0.5880 - accuracy: 0.7125 - val_loss: 0.7641 - val_accuracy: 0.6296\n",
            "Epoch 16/27\n",
            "720/720 [==============================] - 0s 118us/step - loss: 0.5622 - accuracy: 0.7417 - val_loss: 0.6646 - val_accuracy: 0.6790\n",
            "Epoch 17/27\n",
            "720/720 [==============================] - 0s 131us/step - loss: 0.5516 - accuracy: 0.7333 - val_loss: 0.7232 - val_accuracy: 0.7037\n",
            "Epoch 18/27\n",
            "720/720 [==============================] - 0s 119us/step - loss: 0.5952 - accuracy: 0.7264 - val_loss: 0.8369 - val_accuracy: 0.6543\n",
            "Epoch 19/27\n",
            "720/720 [==============================] - 0s 117us/step - loss: 0.5987 - accuracy: 0.7236 - val_loss: 0.7794 - val_accuracy: 0.6296\n",
            "Epoch 20/27\n",
            "720/720 [==============================] - 0s 121us/step - loss: 0.5821 - accuracy: 0.7139 - val_loss: 0.8050 - val_accuracy: 0.7037\n",
            "Epoch 21/27\n",
            "720/720 [==============================] - 0s 145us/step - loss: 0.6273 - accuracy: 0.7292 - val_loss: 0.8126 - val_accuracy: 0.6049\n",
            "Epoch 22/27\n",
            "720/720 [==============================] - 0s 125us/step - loss: 0.5696 - accuracy: 0.7444 - val_loss: 0.7035 - val_accuracy: 0.6296\n",
            "Epoch 23/27\n",
            "720/720 [==============================] - 0s 134us/step - loss: 0.5446 - accuracy: 0.7389 - val_loss: 0.7542 - val_accuracy: 0.6420\n",
            "Epoch 24/27\n",
            "720/720 [==============================] - 0s 127us/step - loss: 0.6023 - accuracy: 0.7264 - val_loss: 0.8677 - val_accuracy: 0.5802\n",
            "Epoch 25/27\n",
            "720/720 [==============================] - 0s 127us/step - loss: 0.6986 - accuracy: 0.6875 - val_loss: 0.7858 - val_accuracy: 0.7160\n",
            "Epoch 26/27\n",
            "720/720 [==============================] - 0s 119us/step - loss: 0.6126 - accuracy: 0.7319 - val_loss: 0.6426 - val_accuracy: 0.6790\n",
            "Epoch 27/27\n",
            "720/720 [==============================] - 0s 117us/step - loss: 0.5514 - accuracy: 0.7236 - val_loss: 0.6236 - val_accuracy: 0.7160\n"
          ],
          "name": "stdout"
        }
      ]
    },
    {
      "cell_type": "code",
      "metadata": {
        "id": "TuaIldKeM8_c",
        "colab_type": "code",
        "outputId": "089e9b6e-fdb0-4d88-dd8e-1df5dd018735",
        "colab": {
          "base_uri": "https://localhost:8080/",
          "height": 295
        }
      },
      "source": [
        "import matplotlib.pyplot as plt\n",
        "plt.plot(history.history['accuracy'])\n",
        "plt.plot(history.history['val_accuracy'])\n",
        "plt.title('model accuracy')\n",
        "plt.ylabel('accuracy')\n",
        "plt.xlabel('epoch')\n",
        "plt.legend(['train', 'validation'], loc='upper left')\n",
        "plt.show()"
      ],
      "execution_count": 0,
      "outputs": [
        {
          "output_type": "display_data",
          "data": {
            "image/png": "[encoded data removed]",
            "text/plain": [
              "<Figure size 432x288 with 1 Axes>"
            ]
          },
          "metadata": {
            "tags": [],
            "needs_background": "light"
          }
        }
      ]
    },
    {
      "cell_type": "code",
      "metadata": {
        "id": "sv1TXsAIOF_F",
        "colab_type": "code",
        "outputId": "aabb83cc-b901-42b9-960d-051cdbbfbb5c",
        "colab": {
          "base_uri": "https://localhost:8080/",
          "height": 295
        }
      },
      "source": [
        "plt.plot(history.history['loss'])\n",
        "plt.plot(history.history['val_loss'])\n",
        "plt.title('model loss')\n",
        "plt.ylabel('loss')\n",
        "plt.xlabel('epoch')\n",
        "plt.legend(['train', 'validation'], loc='upper left')\n",
        "plt.show()"
      ],
      "execution_count": 0,
      "outputs": [
        {
          "output_type": "display_data",
          "data": {
            "image/png": "[encoded data removed]",
            "text/plain": [
              "<Figure size 432x288 with 1 Axes>"
            ]
          },
          "metadata": {
            "tags": [],
            "needs_background": "light"
          }
        }
      ]
    },
    {
      "cell_type": "code",
      "metadata": {
        "id": "JUcSXZ-0ORS6",
        "colab_type": "code",
        "colab": {}
      },
      "source": [
        "predictions = classifier.predict_classes(test_data)"
      ],
      "execution_count": 0,
      "outputs": []
    },
    {
      "cell_type": "code",
      "metadata": {
        "id": "LRBgp-CcOeMg",
        "colab_type": "code",
        "outputId": "83da70c6-241d-4194-c691-e21d06672f64",
        "colab": {
          "base_uri": "https://localhost:8080/",
          "height": 34
        }
      },
      "source": [
        "accuracy = accuracy_score(test_targets, predictions)\n",
        "accuracy"
      ],
      "execution_count": 0,
      "outputs": [
        {
          "output_type": "execute_result",
          "data": {
            "text/plain": [
              "0.6666666666666666"
            ]
          },
          "metadata": {
            "tags": []
          },
          "execution_count": 165
        }
      ]
    },
    {
      "cell_type": "code",
      "metadata": {
        "id": "mbhyEMMyS4Mm",
        "colab_type": "code",
        "colab": {}
      },
      "source": [
        ""
      ],
      "execution_count": 0,
      "outputs": []
    }
  ]
}