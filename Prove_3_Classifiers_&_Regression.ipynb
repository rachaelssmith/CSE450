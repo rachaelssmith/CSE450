{
  "nbformat": 4,
  "nbformat_minor": 0,
  "metadata": {
    "colab": {
      "name": "Prove 3 Classifiers & Regression.ipynb",
      "provenance": [],
      "collapsed_sections": [],
      "mount_file_id": "1u-ICcnfvfAfblWqapvJ5PNSLSLzedoOn",
      "authorship_tag": "ABX9TyNbutzz4ucq8sJCXm4VujEg",
      "include_colab_link": true
    },
    "kernelspec": {
      "name": "python3",
      "display_name": "Python 3"
    }
  },
  "cells": [
    {
      "cell_type": "markdown",
      "metadata": {
        "id": "view-in-github",
        "colab_type": "text"
      },
      "source": [
        "<a href=\"https://colab.research.google.com/github/rachaelssmith/CSE450/blob/master/Prove_3_Classifiers_%26_Regression.ipynb\" target=\"_parent\"><img src=\"https://colab.research.google.com/assets/colab-badge.svg\" alt=\"Open In Colab\"/></a>"
      ]
    },
    {
      "cell_type": "code",
      "metadata": {
        "id": "_XjxpXi94nOF",
        "colab_type": "code",
        "colab": {}
      },
      "source": [
        "#classification of MPG dataset\n",
        "\n",
        "#import the following files\n",
        "import os\n",
        "import random\n",
        "import pandas as pd\n",
        "import numpy as np\n",
        "from sklearn.model_selection import train_test_split\n",
        "from sklearn.metrics import accuracy_score\n",
        "from sklearn.neighbors import KNeighborsClassifier\n",
        "from sklearn.neighbors import KNeighborsRegressor\n",
        "from sklearn.metrics import r2_score\n",
        "\n",
        "\n",
        "#see full rows in pandas.\n",
        "\n",
        "pd.set_option('display.max_columns', None)\n",
        "pd.set_option('display.width', None)\n",
        "pd.set_option('display.max_colwidth', None)\n",
        "#load the data"
      ],
      "execution_count": 0,
      "outputs": []
    },
    {
      "cell_type": "code",
      "metadata": {
        "id": "HxE0tz3D3vwY",
        "colab_type": "code",
        "colab": {}
      },
      "source": [
        "#Import the Cars dataset\n",
        "names = [\"buying\", \"maint\", \"doors\", \"persons\", \"lug_boot\", \"safety\", \"class\"]\n",
        "url = \"https://archive.ics.uci.edu/ml/machine-learning-databases/car/car.data\"\n",
        "cardf = pd.read_csv(url, header = None, names = names)\n",
        "\n",
        "\n",
        "# Cleanup the Cars dataset:\n",
        "cleanup_nums = {\"doors\": {\"5more\": 5},\n",
        "                  \"persons\":  {\"more\": 6},\n",
        "                \"buying\":   {\"vhigh\": 4, \"high\": 3, \"med\":2, \"low\":1},\n",
        "                \"maint\":  {\"vhigh\": 4, \"high\": 3, \"med\":2, \"low\":1},\n",
        "                \"lug_boot\": {\"big\": 3, \"med\": 2, \"small\":1},\n",
        "                \"safety\": {\"high\": 3, \"med\": 2, \"low\":1}}\n",
        "      \n",
        "cardf.replace(cleanup_nums, inplace =True)\n",
        "\n",
        "cardf[\"doors\"] = cardf[\"doors\"].astype('int64')\n",
        "cardf[\"persons\"] = cardf[\"persons\"].astype('int64')\n",
        "\n",
        "# Randomize the MPG Data\n",
        "cardf = cardf.sample(frac=1)\n",
        "\n",
        "#split the data into features and targets\n",
        "targets = cardf['class']\n",
        "features = cardf[car_names[:6]]\n",
        "\n",
        "#30% of the samples will be used for testing.\n",
        "#the other 70% will be used for training.\n",
        "train_data, test_data, train_targets, test_targets = train_test_split(features, targets, test_size =.3)\n"
      ],
      "execution_count": 0,
      "outputs": []
    },
    {
      "cell_type": "code",
      "metadata": {
        "id": "0HwvjCpp8WHg",
        "colab_type": "code",
        "outputId": "9af8d5f4-7b7e-4e14-aaac-fef261d41424",
        "colab": {
          "base_uri": "https://localhost:8080/",
          "height": 306
        }
      },
      "source": [
        "def main():\n",
        "  knnclassifier = KNeighborsClassifier(n_neighbors=3)\n",
        "  knnclassifier.fit(train_data, train_targets)\n",
        "  predictions = hcc.predict(test_targets)\n",
        "\n",
        "  p_dataframe = pd.DataFrame(predictions)\n",
        "  p_dataframe.rename(index=str, columns={1:'class'})\n",
        "  accuracy = accuracy_score(test_targets, predictions)\n",
        "\n",
        "  new_targets_list = test_targets\n",
        "  new_targets_list = new_targets_list.reset_index()\n",
        "\n",
        "  final = pd.concat([p_dataframe, new_targets_list], axis=1,join='outer',ignore_index=True)\n",
        "  final.columns = ['Prediction Type:', 'Original Index:', 'Training Type:']\n",
        "  print(final)\n",
        "  print(\"\")\n",
        "  print(\"Accuracy: \\n\\t\"+format(accuracy,'.2f'))\n",
        "    \n",
        "if __name__ == \"__main__\":\n",
        "    main()"
      ],
      "execution_count": 207,
      "outputs": [
        {
          "output_type": "stream",
          "text": [
            "    Prediction Type:  Original Index: Training Type:\n",
            "0                acc             1418            acc\n",
            "1              unacc              407          unacc\n",
            "2              unacc             1080          unacc\n",
            "3                acc             1363            acc\n",
            "4              unacc             1410          unacc\n",
            "..               ...              ...            ...\n",
            "514            unacc              936          unacc\n",
            "515            unacc              919          unacc\n",
            "516            unacc              747          unacc\n",
            "517            unacc              837          unacc\n",
            "518            unacc             1287          unacc\n",
            "\n",
            "[519 rows x 3 columns]\n",
            "\n",
            "Accuracy: \n",
            "\t0.96\n"
          ],
          "name": "stdout"
        }
      ]
    },
    {
      "cell_type": "code",
      "metadata": {
        "id": "yP9gGwcOl67w",
        "colab_type": "code",
        "colab": {}
      },
      "source": [
        "#Import the MPG dataset\n",
        "\n",
        "mpg_names = [\"mpg\", \"cylinders\", \"displacement\", \"horsepower\", \"weight\", \"acceleration\", \"model_year\", \"origin\", \"car_name\"]\n",
        "mpg_url = \"https://archive.ics.uci.edu/ml/machine-learning-databases/auto-mpg/auto-mpg.data\"\n",
        "mpgdf = pd.read_csv(mpg_url, header = None, names = mpg_names, delim_whitespace= True, na_values =['?'])\n",
        "\n",
        "# Cleanup the mpgdf datset\n",
        "\n",
        "mpgdf[\"car_name\"] = mpgdf[\"car_name\"].astype('category')\n",
        "mpgdf[\"car_name\"] = mpgdf[\"car_name\"].cat.codes\n",
        "mpgdf[\"horsepower\"] = pd.to_numeric(mpgdf[\"horsepower\"])\n",
        "\n",
        "mpgdf = mpgdf.dropna(how = 'any')\n",
        "mpgdf.isnull().sum()\n",
        "\n",
        "# Randomize the MPG Data\n",
        "mpgdf = mpgdf.sample(frac=1)\n",
        "\n",
        "#split the data into features and targets\n",
        "mpg_targets = mpgdf['mpg']\n",
        "mpg_features = mpgdf[mpg_names[1:]]\n",
        "\n",
        "mpg_targets = mpg_targets.to_numpy()\n",
        "mpg_features = mpg_features.to_numpy()\n",
        "\n",
        "#30% of the samples will be used for testing.\n",
        "#the other 70% will be used for training.\n",
        "mpg_train_data, mpg_test_data, mpg_train_targets, mpg_test_targets = train_test_split(mpg_features, mpg_targets, test_size =.3)"
      ],
      "execution_count": 0,
      "outputs": []
    },
    {
      "cell_type": "code",
      "metadata": {
        "id": "kcYm04Tp5w02",
        "colab_type": "code",
        "outputId": "12ae0a1a-749c-418f-e31b-0d637a2faebe",
        "colab": {
          "base_uri": "https://localhost:8080/",
          "height": 663
        }
      },
      "source": [
        "# Run Regression on the MPG Dataset\n",
        "\n",
        "def main():\n",
        "  knnregression = KNeighborsRegressor(n_neighbors=3)\n",
        "  knnregression.fit(mpg_train_data, mpg_train_targets)\n",
        "  mpg_predictions = knnregression.predict(mpg_test_data)\n",
        "  y_true = mpg_test_targets\n",
        "  y_pred = mpg_predictions\n",
        "  mpg_score = r2_score(y_true, y_pred)\n",
        "\n",
        "  print(\"\\nMPG Test Targets: \\n\", mpg_test_targets, \"\\n\\nMPG Regression Predictions: \\n\", mpg_predictions)\n",
        "  print (\"MPG train data shape: \" + str(mpg_train_data.shape+mpg_train_targets.shape))\n",
        "  print (\"\\nMPG test data shape: \" + str(mpg_test_data.shape+mpg_test_targets.shape)) \n",
        "  print(\"\\nMPG Regression Score: {:.2f}\".format(mpg_score))\n",
        "  \n",
        "if __name__ == \"__main__\":\n",
        "    main()"
      ],
      "execution_count": 209,
      "outputs": [
        {
          "output_type": "stream",
          "text": [
            "\n",
            "MPG Test Targets: \n",
            " [31.  16.5 22.  13.  28.  23.8 36.  30.9 24.  32.7 18.  19.  11.  27.2\n",
            " 18.1 18.  17.  18.  21.1 20.8 25.5 19.2 18.2 16.5 19.  31.  23.  19.\n",
            " 25.5 29.  26.6 17.6 28.8 13.  22.4 20.  15.  22.  21.  28.  22.  12.\n",
            " 32.2 28.  14.5 44.3 16.  18.  17.5 36.  24.  13.  17.  13.  17.5 24.\n",
            " 38.  15.  16.  10.  26.  15.  15.5 14.  41.5 33.5 31.  13.  12.  36.\n",
            " 23.9 39.  26.6 20.  24.  31.6 18.6 15.  25.  19.  25.8 12.  18.  44.6\n",
            " 25.  20.5 19.  20.  15.  20.2 13.  26.  46.6 27.  26.  18.  34.1 17.\n",
            " 14.  13.  17.  19.  24.3 39.4 25.  21.  15.5 26.  35.7 18.5 23.  29.9\n",
            " 22.  25.  33.  24.  28.4 18. ] \n",
            "\n",
            "MPG Regression Predictions: \n",
            " [35.73333333 13.33333333 24.63333333 11.66666667 32.66666667 23.\n",
            " 25.9        26.9        26.66666667 24.5        23.9        30.13333333\n",
            " 13.         25.7        16.66666667 17.73333333 16.16666667 19.93333333\n",
            " 26.66666667 19.4        26.13333333 17.83333333 13.66666667 14.96666667\n",
            " 21.13333333 24.83333333 30.66666667 18.56666667 26.66666667 35.23333333\n",
            " 16.         18.2        24.16666667 15.83333333 18.9        18.63333333\n",
            " 14.5        30.33333333 25.63333333 29.6        26.3        11.66666667\n",
            " 26.66666667 24.83333333 15.16666667 38.         18.33333333 17.53333333\n",
            " 14.66666667 29.26666667 30.1        13.33333333 16.16666667 16.\n",
            " 18.63333333 29.46666667 32.36666667 14.66666667 13.33333333 14.3\n",
            " 32.36666667 17.4        14.66666667 15.16666667 35.6        35.06666667\n",
            " 33.53333333 14.         11.66666667 34.86666667 31.         29.26666667\n",
            " 27.46666667 22.9        27.         24.83333333 18.         15.83333333\n",
            " 29.46666667 18.63333333 27.3        13.33333333 23.9        35.06666667\n",
            " 30.63333333 18.9        26.33333333 25.66666667 19.63333333 17.46666667\n",
            " 15.         23.66666667 31.83333333 28.43333333 28.66666667 16.\n",
            " 32.36666667 19.13333333 14.         18.33333333 22.9        18.66666667\n",
            " 28.13333333 35.06666667 21.66666667 20.26666667 14.33333333 26.33333333\n",
            " 33.83333333 15.16666667 15.16666667 31.66666667 17.53333333 29.83333333\n",
            " 35.06666667 26.76666667 26.13333333 34.26666667]\n",
            "MPG train data shape: (274, 8, 274)\n",
            "\n",
            "MPG test data shape: (118, 8, 118)\n",
            "\n",
            "MPG Regression Score: 0.65\n"
          ],
          "name": "stdout"
        }
      ]
    },
    {
      "cell_type": "code",
      "metadata": {
        "id": "64s5TVjb-Klw",
        "colab_type": "code",
        "outputId": "d0c679af-2594-4ffa-e527-545e74dc2626",
        "colab": {
          "base_uri": "https://localhost:8080/",
          "height": 215
        }
      },
      "source": [
        "#Import the Math dataset\n",
        "os.chdir('C:/Users⁩/johnsmith/Desktop⁩')\n",
        "math_file = ('student_mat.csv')\n",
        "mathdf = pd.read_csv(math_file, header = None, delimiter = \";\")\n",
        "mathdf\n"
      ],
      "execution_count": 210,
      "outputs": [
        {
          "output_type": "error",
          "ename": "FileNotFoundError",
          "evalue": "ignored",
          "traceback": [
            "\u001b[0;31m---------------------------------------------------------------------------\u001b[0m",
            "\u001b[0;31mFileNotFoundError\u001b[0m                         Traceback (most recent call last)",
            "\u001b[0;32m<ipython-input-210-753ae0d94811>\u001b[0m in \u001b[0;36m<module>\u001b[0;34m()\u001b[0m\n\u001b[0;32m----> 1\u001b[0;31m \u001b[0mos\u001b[0m\u001b[0;34m.\u001b[0m\u001b[0mchdir\u001b[0m\u001b[0;34m(\u001b[0m\u001b[0;34m'C:/Users⁩/johnsmith/Desktop⁩'\u001b[0m\u001b[0;34m)\u001b[0m\u001b[0;34m\u001b[0m\u001b[0;34m\u001b[0m\u001b[0m\n\u001b[0m\u001b[1;32m      2\u001b[0m \u001b[0mmath_file\u001b[0m \u001b[0;34m=\u001b[0m \u001b[0;34m(\u001b[0m\u001b[0;34m'student_mat.csv'\u001b[0m\u001b[0;34m)\u001b[0m\u001b[0;34m\u001b[0m\u001b[0;34m\u001b[0m\u001b[0m\n\u001b[1;32m      3\u001b[0m \u001b[0mmathdf\u001b[0m \u001b[0;34m=\u001b[0m \u001b[0mpd\u001b[0m\u001b[0;34m.\u001b[0m\u001b[0mread_csv\u001b[0m\u001b[0;34m(\u001b[0m\u001b[0mmath_file\u001b[0m\u001b[0;34m,\u001b[0m \u001b[0mheader\u001b[0m \u001b[0;34m=\u001b[0m \u001b[0;32mNone\u001b[0m\u001b[0;34m,\u001b[0m \u001b[0mdelimiter\u001b[0m \u001b[0;34m=\u001b[0m \u001b[0;34m\";\"\u001b[0m\u001b[0;34m)\u001b[0m\u001b[0;34m\u001b[0m\u001b[0;34m\u001b[0m\u001b[0m\n\u001b[1;32m      4\u001b[0m \u001b[0mmathdf\u001b[0m\u001b[0;34m\u001b[0m\u001b[0;34m\u001b[0m\u001b[0m\n",
            "\u001b[0;31mFileNotFoundError\u001b[0m: [Errno 2] No such file or directory: 'C:/Users\\u2069/johnsmith/Desktop\\u2069'"
          ]
        }
      ]
    },
    {
      "cell_type": "code",
      "metadata": {
        "id": "aLJemMeUC2xP",
        "colab_type": "code",
        "colab": {}
      },
      "source": [
        "math_names = [\"school\", \"sex\", \"age\", \"address\", \"famsize\", \"Pstatus\", \"Medu\", \"Fedu\", \"Mjob\", \"Fjob\", \"reason\", \"guardian\", \"traveltime\", \"studytime\" ,\"failures\",\"schoolsup\", \"famsup\", \"paid\", \"activities\", \"nursery\",\"higher\", \"internet\", \"romantic\", \"famrel\", \"freetime\", \"goout\", \"Dalc\", \"Walc\", \"health\", \"absences\",\"G1\", \"G2\", \"G3\"]"
      ],
      "execution_count": 0,
      "outputs": []
    },
    {
      "cell_type": "code",
      "metadata": {
        "id": "OPLJVQV4CZHd",
        "colab_type": "code",
        "colab": {}
      },
      "source": [
        "names = math_names, \n",
        "!pip install --upgrade -q gspread"
      ],
      "execution_count": 0,
      "outputs": []
    },
    {
      "cell_type": "code",
      "metadata": {
        "id": "JfUkq2XvCZHG",
        "colab_type": "code",
        "colab": {}
      },
      "source": [
        "from google.colab import auth\n",
        "auth.authenticate_user()\n",
        "\n",
        "import gspread\n",
        "from oauth2client.client import GoogleCredentials\n",
        "\n",
        "gc = gspread.authorize(GoogleCredentials.get_application_default())\n",
        "\n",
        "worksheet = gc.open('Your spreadsheet name').sheet1\n",
        "\n",
        "# get_all_values gives a list of rows.\n",
        "rows = worksheet.get_all_values()\n",
        "print(rows)\n",
        "\n",
        "# Convert to a DataFrame and render.\n",
        "import pandas as pd\n",
        "pd.DataFrame.from_records(rows)"
      ],
      "execution_count": 0,
      "outputs": []
    },
    {
      "cell_type": "code",
      "metadata": {
        "id": "lkyqQIf1BBOu",
        "colab_type": "code",
        "colab": {}
      },
      "source": [
        "# Cleanup the Math dataset:"
      ],
      "execution_count": 0,
      "outputs": []
    },
    {
      "cell_type": "code",
      "metadata": {
        "id": "b9Q-F9e1-Kxd",
        "colab_type": "code",
        "colab": {}
      },
      "source": [
        "# Randomize the Math Data\n",
        "mathdf = mathdf.sample(frac=1)\n",
        "\n",
        "#split the data into features and targets\n",
        "math_targets = mathdf[]\n",
        "math_features = mathdf[]\n",
        "\n",
        "#30% of the samples will be used for testing.\n",
        "#the other 70% will be used for training.\n",
        "train_data, test_data, train_targets, test_targets = train_test_split(math_features, math_targets, test_size =.3)"
      ],
      "execution_count": 0,
      "outputs": []
    }
  ]
}